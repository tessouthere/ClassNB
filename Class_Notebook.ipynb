{
 "cells": [
  {
   "cell_type": "markdown",
   "id": "4ef4485e",
   "metadata": {},
   "source": [
    "# Ch9 Classes"
   ]
  },
  {
   "cell_type": "markdown",
   "id": "7b465366",
   "metadata": {},
   "source": [
    "### Python is an object oriented programming language.\n",
    "- Almost everything in Python is an object, with its properties and methods (Functions).\n",
    "- A Class is like an object constructor, or a \"blueprint\" for creating objects."
   ]
  },
  {
   "cell_type": "code",
   "execution_count": null,
   "id": "741b88de",
   "metadata": {},
   "outputs": [],
   "source": [
    "class Employee(): \n",
    "    #class name must be title case\n",
    "    \n",
    "    #init is the constructor of the class\n",
    "    #self is used to represent the instance of a class\n",
    "    def __init__(self,first,last,age,dept): # this is an initialization method inside the employee class\n",
    "        self.first=first.title()\n",
    "        self.last=last.title()\n",
    "        self.age=age\n",
    "        self.age=dept.title()\n",
    "        \n",
    "    # emp_3=Employee('steve','hensely',55,'human resources')\n",
    "    # print(emp_1.first)\n",
    "    # print(emp_1.last)\n",
    "    # print(f\"Employee full name: {emp_1.first} {emp_1.last}\")\n",
    "    # let's make a method to make all this ^^^ way easier :) \n",
    "    def fullname(self):\n",
    "        return f\"Employee full name: {self.first} {self.last}\"\n",
    "emp_1=Employee(\"angel\",'hill',32,'accounting')\n",
    "emp_2=Employee('peter','white',35,'finance')\n",
    "print(emp_1.fullname())"
   ]
  },
  {
   "cell_type": "markdown",
   "id": "5d60f7c0",
   "metadata": {},
   "source": [
    "### Creating the Dog Class\n",
    "Each instance created from the Dog class will store a name and an age, and we’ll give each dog the ability to sit() and roll_over():"
   ]
  },
  {
   "cell_type": "code",
   "execution_count": null,
   "id": "80137687",
   "metadata": {},
   "outputs": [],
   "source": []
  },
  {
   "cell_type": "code",
   "execution_count": 3,
   "id": "ebf49629",
   "metadata": {},
   "outputs": [
    {
     "ename": "ModuleNotFoundError",
     "evalue": "No module named 'pytorch_lightning'",
     "output_type": "error",
     "traceback": [
      "\u001b[0;31m---------------------------------------------------------------------------\u001b[0m",
      "\u001b[0;31mModuleNotFoundError\u001b[0m                       Traceback (most recent call last)",
      "Input \u001b[0;32mIn [3]\u001b[0m, in \u001b[0;36m<cell line: 1>\u001b[0;34m()\u001b[0m\n\u001b[0;32m----> 1\u001b[0m \u001b[38;5;28;01mfrom\u001b[39;00m \u001b[38;5;21;01mpytorch_lightning\u001b[39;00m\u001b[38;5;21;01m.\u001b[39;00m\u001b[38;5;21;01mcallbacks\u001b[39;00m \u001b[38;5;28;01mimport\u001b[39;00m ModelCheckpoint\n",
      "\u001b[0;31mModuleNotFoundError\u001b[0m: No module named 'pytorch_lightning'"
     ]
    }
   ],
   "source": [
    "from pytorch_lightning.callbacks import ModelCheckpoint"
   ]
  },
  {
   "cell_type": "code",
   "execution_count": 43,
   "id": "6e84155c",
   "metadata": {},
   "outputs": [
    {
     "data": {
      "text/plain": [
       "'Buddy is now rolling.'"
      ]
     },
     "execution_count": 43,
     "metadata": {},
     "output_type": "execute_result"
    }
   ],
   "source": [
    "class Dog():\n",
    "    def __init__(self,name,age):\n",
    "        self.name=name.title()\n",
    "        self.age=age\n",
    "    def sit(self):\n",
    "        return f\"{self.name} is now sitting.\"\n",
    "    def roll_over(self):\n",
    "        return f\"{self.name} is now rolling.\"\n",
    "dog1=Dog('joon',5)\n",
    "dog2=Dog('buddy',12)\n",
    "dog1.sit()\n",
    "dog1.roll_over()\n",
    "dog2.sit()\n",
    "dog2.roll_over()"
   ]
  },
  {
   "cell_type": "markdown",
   "id": "8bbcc5c0",
   "metadata": {},
   "source": [
    "#### Note:\n",
    "- By convention, capitalized names refer to classes in Python. \n",
    "- The parentheses in the class definition are empty because we’re creating this class from scratch.\n",
    "- All classes have a function called __init__(), which is always executed when the class is being initiated.\n",
    "- Use the __init__() function to assign values to object properties, or other operations that are necessary to do when the object is being created\n",
    "- Any variable prefixed with `self` is available to every method in the class, and we’ll also be able to access these variables through any instance created from the class.\n",
    "- The Dog class has two other methods defined: sit() and roll_over().Because these methods don’t need additional information like a name or age, we just define them to have one parameter, self."
   ]
  },
  {
   "cell_type": "markdown",
   "id": "402f0696",
   "metadata": {},
   "source": [
    "### Restaurant: Make a class called Restaurant. The __init__() method for Restaurant should store two attributes: a restaurant_name and a cuisine_type.\n",
    "- Make a method called `describe_restaurant()` that prints name of teh restrurent and the cuisine type\n",
    "- and a method called open_restaurant() that prints a message indicating that the restaurant is open.\n",
    "- Make an instance called restaurant from your class. Print the two attributes individually, and then call both methods.\n"
   ]
  },
  {
   "cell_type": "code",
   "execution_count": 44,
   "id": "c4316b2d",
   "metadata": {},
   "outputs": [],
   "source": [
    "class Restaurant:\n",
    "    def __init__(self,name,cuis_type):\n",
    "        self.name=name.title()\n",
    "        self.cuis_type=cuis_type.title()\n",
    "        \n",
    "    def describe_restaurant(self):\n",
    "        return f\"Welcome to {self.name}. We serve {self.cuis_type} Cuisine!\"\n",
    "    \n",
    "    def open_restaurant(self):\n",
    "        return f\"{self.name} is open now!\"\n"
   ]
  },
  {
   "cell_type": "markdown",
   "id": "8b4a4fca",
   "metadata": {},
   "source": [
    "### - Create three different instances from the class, and call describe_restaurant() for each instance."
   ]
  },
  {
   "cell_type": "code",
   "execution_count": null,
   "id": "b3845fe0",
   "metadata": {},
   "outputs": [],
   "source": [
    "rest1=Restaurant(\"Olive Garden\",\"Italian\")\n",
    "rest2=Restaurant(\"McDonalds\",\"American\")\n",
    "rest3=Restaurant(\"Nawaab\",\"Indian\")\n",
    "\n",
    "print(f\"{rest1.describe_restaurant()} \\n\\n{rest2.describe_restaurant()} \\n\\n{rest3.describe_restaurant()}\")"
   ]
  },
  {
   "cell_type": "markdown",
   "id": "8f4032c6",
   "metadata": {},
   "source": [
    "### Users: Make a class called User. Create attributes called first_name and last_name, username, location \n",
    "- Make a method called describe_user() that prints a summary of the user’s information. \n",
    "- Make another method called greet_user() that prints a personalized greeting to the user.\n",
    "- Create several instances representing different users, and call both methods for each user."
   ]
  },
  {
   "cell_type": "code",
   "execution_count": null,
   "id": "dda94ce2",
   "metadata": {},
   "outputs": [],
   "source": [
    "class User:\n",
    "    def __init__(self,first_name,last_name,username,location):\n",
    "        self.first_name=first_name.title()\n",
    "        self.last_name=last_name.title()\n",
    "        self.username=username\n",
    "        self.location=location.title()\n",
    "    def describe_user(self):\n",
    "        return f\"User Information: \\n\\tFirst Name: {self.first_name} \\n\\tLast Name: {self.last_name} \\n\\tUsername: {self.username} \\n\\tLocation: {self.location}\"\n",
    "    def greet_user(self):\n",
    "        return f\"Welcome {self.first_name}!\""
   ]
  },
  {
   "cell_type": "code",
   "execution_count": null,
   "id": "8864d617",
   "metadata": {},
   "outputs": [],
   "source": [
    "user1=User(\"tess\",'anderson','tessouthere','huntington')\n",
    "user2=User('caroline','whitt','barrelofcarol','bath county')\n",
    "user3=User('alison','clark','iworkatvictoriasecret','iraq')\n",
    "print(f'{user1.greet_user()}\\n{user1.describe_user()}')\n",
    "print(f'{user2.greet_user()}\\n{user2.describe_user()}')\n",
    "print(f'{user3.greet_user()}\\n{user3.describe_user()}')"
   ]
  },
  {
   "cell_type": "markdown",
   "id": "8b5bfff2",
   "metadata": {},
   "source": [
    "## Setting a Default Value for an Attribute"
   ]
  },
  {
   "cell_type": "code",
   "execution_count": 1,
   "id": "bbdc7a10",
   "metadata": {},
   "outputs": [
    {
     "name": "stdout",
     "output_type": "stream",
     "text": [
      "2016 Nissan Versa\n",
      "This car has 0 miles on it.\n"
     ]
    }
   ],
   "source": [
    "class Car():\n",
    "    def __init__(self, make, model, year):\n",
    "        self.make=make\n",
    "        self.model=model\n",
    "        self.year=year\n",
    "        self.odometer_reading=0\n",
    "\n",
    "    def get_descriptive_name(self):\n",
    "        long_name = str(self.year) + ' ' + self.make + ' ' + self.model\n",
    "        return long_name.title()\n",
    "\n",
    "    def read_odometer(self):\n",
    "        print(\"This car has \" + str(self.odometer_reading) + \" miles on it.\")\n",
    "my_new_car = Car('Nissan', 'Versa', 2016)\n",
    "\n",
    "print(my_new_car.get_descriptive_name())\n",
    "my_new_car.read_odometer()"
   ]
  },
  {
   "cell_type": "markdown",
   "id": "3f840f3e",
   "metadata": {},
   "source": [
    "#### Modifying an Attribute’s Value Directly"
   ]
  },
  {
   "cell_type": "code",
   "execution_count": 2,
   "id": "6f8fa540",
   "metadata": {},
   "outputs": [
    {
     "name": "stdout",
     "output_type": "stream",
     "text": [
      "This car has 23 miles on it.\n"
     ]
    }
   ],
   "source": [
    "my_new_car.odometer_reading = 23\n",
    "my_new_car.read_odometer()"
   ]
  },
  {
   "cell_type": "markdown",
   "id": "27f8f244",
   "metadata": {},
   "source": [
    "### Modifying an Attribute’s Value Through a Method"
   ]
  },
  {
   "cell_type": "code",
   "execution_count": 5,
   "id": "9b3ae956",
   "metadata": {},
   "outputs": [
    {
     "name": "stdout",
     "output_type": "stream",
     "text": [
      "2016 Nissan Versa\n",
      "This car has 23 miles on it.\n"
     ]
    }
   ],
   "source": [
    "class Car():\n",
    "    def __init__(self, make, model, year):\n",
    "        self.make=make\n",
    "        self.model=model\n",
    "        self.year=year\n",
    "        self.odometer_reading=0\n",
    "\n",
    "    def get_descriptive_name(self):\n",
    "        long_name = str(self.year) + ' ' + self.make + ' ' + self.model\n",
    "        return long_name.title()\n",
    "\n",
    "    def read_odometer(self):\n",
    "        print(\"This car has \" + str(self.odometer_reading) + \" miles on it.\")\n",
    "    def update_odometer(self, mileage):\n",
    "        self.odometer_reading = mileage   \n",
    "        \n",
    "my_new_car = Car('Nissan', 'Versa', 2016)\n",
    "\n",
    "print(my_new_car.get_descriptive_name())\n",
    "my_new_car.update_odometer(23)\n",
    "my_new_car.read_odometer()"
   ]
  },
  {
   "cell_type": "markdown",
   "id": "fd560131",
   "metadata": {},
   "source": [
    "### Incrementing an Attribute’s Value Through a Method"
   ]
  },
  {
   "cell_type": "code",
   "execution_count": 6,
   "id": "8d76b884",
   "metadata": {},
   "outputs": [
    {
     "name": "stdout",
     "output_type": "stream",
     "text": [
      "2016 Nissan Versa\n",
      "This car has 23 miles on it.\n"
     ]
    }
   ],
   "source": [
    "class Car():\n",
    "    def __init__(self, make, model, year):\n",
    "        self.make=make\n",
    "        self.model=model\n",
    "        self.year=year\n",
    "        self.odometer_reading=0\n",
    "\n",
    "    def get_descriptive_name(self):\n",
    "        long_name = str(self.year) + ' ' + self.make + ' ' + self.model\n",
    "        return long_name.title()\n",
    "\n",
    "    def read_odometer(self):\n",
    "        print(\"This car has \" + str(self.odometer_reading) + \" miles on it.\")\n",
    "    def update_odometer(self, mileage):\n",
    "        self.odometer_reading = mileage  \n",
    "        \n",
    "    def incremental_odometer(self,miles):\n",
    "        self.odometer_reading+=miles\n",
    "        \n",
    "my_new_car = Car('Nissan', 'Versa', 2016)\n",
    "\n",
    "print(my_new_car.get_descriptive_name())\n",
    "my_new_car.update_odometer(23)\n",
    "my_new_car.read_odometer()"
   ]
  },
  {
   "cell_type": "code",
   "execution_count": 7,
   "id": "1500c7e7",
   "metadata": {},
   "outputs": [
    {
     "name": "stdout",
     "output_type": "stream",
     "text": [
      "This car has 123 miles on it.\n"
     ]
    }
   ],
   "source": [
    "my_new_car.incremental_odometer(100)\n",
    "my_new_car.read_odometer()"
   ]
  },
  {
   "cell_type": "markdown",
   "id": "b96f0d18",
   "metadata": {},
   "source": [
    "# Inheritance\n",
    "- You don’t always have to start from scratch when writing a class. If the class you’re writing is a specialized version of another class you wrote, you can use inheritance. \n",
    "- When one class inherits from another, it automatically takes on all the attributes and methods of the first class. The original class is called the `parent class`, and the new class is the `child class`. \n",
    "- The child class inherits every attribute and method from its parent class but is also free to define new attributes and methods of its own."
   ]
  },
  {
   "cell_type": "code",
   "execution_count": 8,
   "id": "5b7c3efd",
   "metadata": {},
   "outputs": [],
   "source": [
    "class Car():\n",
    "    def __init__(self, make, model, year):\n",
    "        self.make=make\n",
    "        self.model=model\n",
    "        self.year=year\n",
    "        self.odometer_reading=0\n",
    "\n",
    "    def get_descriptive_name(self):\n",
    "        long_name = str(self.year) + ' ' + self.make + ' ' + self.model\n",
    "        return long_name.title()\n",
    "\n",
    "    def read_odometer(self):\n",
    "        print(\"This car has \" + str(self.odometer_reading) + \" miles on it.\")\n",
    "    def update_odometer(self, mileage):\n",
    "        self.odometer_reading = mileage  \n",
    "        \n",
    "    def incremental_odometer(self,miles):\n",
    "        self.odometer_reading+=miles"
   ]
  },
  {
   "cell_type": "code",
   "execution_count": 9,
   "id": "07cbb387",
   "metadata": {},
   "outputs": [],
   "source": [
    "class ElectricCar(Car):\n",
    "\n",
    "    def __init__(self,make,model,year):\n",
    "        super().__init__(make,model,year) # \"\"\"Initialize attributes of the parent class.\"\"\"\n",
    "\n"
   ]
  },
  {
   "cell_type": "code",
   "execution_count": 10,
   "id": "34de9649",
   "metadata": {},
   "outputs": [
    {
     "name": "stdout",
     "output_type": "stream",
     "text": [
      "2019 Honda Crv\n"
     ]
    }
   ],
   "source": [
    "my_Honda=ElectricCar(\"Honda\",\"CRV\", 2019)\n",
    "print(my_Honda.get_descriptive_name())"
   ]
  },
  {
   "cell_type": "markdown",
   "id": "5b594c20",
   "metadata": {},
   "source": [
    "### Practice: Create a class named Person, with firstname and lastname properties, and a printname method:"
   ]
  },
  {
   "cell_type": "code",
   "execution_count": 11,
   "id": "681edaaf",
   "metadata": {},
   "outputs": [],
   "source": [
    "class Person:\n",
    "    def __init__(self,fname,lname):\n",
    "        self.fname=fname.title()\n",
    "        self.lname=lname.title()\n",
    "        \n",
    "    def printname(self):\n",
    "        print(f'Full name : {self.fname} {self.lname}' )"
   ]
  },
  {
   "cell_type": "code",
   "execution_count": 12,
   "id": "443cf883",
   "metadata": {},
   "outputs": [
    {
     "name": "stdout",
     "output_type": "stream",
     "text": [
      "Full name : John Smith\n",
      "Full name : Anisha Ray\n"
     ]
    }
   ],
   "source": [
    "person1=Person(\"John\",\"Smith\")\n",
    "person1.printname()\n",
    "person2=Person(\"Anisha\",\"ray\")\n",
    "person2.printname()"
   ]
  },
  {
   "cell_type": "markdown",
   "id": "a8023470",
   "metadata": {},
   "source": [
    "### Create child classes called Student using Inheritance contains the first and last name and the graduation year \n",
    "- Add a method called `welcome` that prints the student graduation year\n",
    "- Test the student method for two students"
   ]
  },
  {
   "cell_type": "code",
   "execution_count": 9,
   "id": "8a1571d5",
   "metadata": {},
   "outputs": [],
   "source": [
    "class Student(Person):\n",
    "    def __init__(self,fname,lname,gradyear):\n",
    "        super().__init__(fname,lname)\n",
    "        self.gradyear=gradyear\n",
    "            \n",
    "    def welcome(self):\n",
    "        print(f\"Welcome, {self.fname} {self.lname} to the Class of {self.gradyear}!\")"
   ]
  },
  {
   "cell_type": "code",
   "execution_count": 10,
   "id": "5816f6a4",
   "metadata": {},
   "outputs": [
    {
     "name": "stdout",
     "output_type": "stream",
     "text": [
      "Welcome, Richard Olson to the Class of 2025!\n"
     ]
    }
   ],
   "source": [
    "student1=Student('richard','olson',2025)\n",
    "student1.welcome()"
   ]
  },
  {
   "cell_type": "code",
   "execution_count": 12,
   "id": "fd64c526",
   "metadata": {},
   "outputs": [
    {
     "name": "stdout",
     "output_type": "stream",
     "text": [
      "Welcome, Mary Hicks to the Class of 2026!\n"
     ]
    }
   ],
   "source": [
    "student2=Student('mary','hicks',2026)\n",
    "student2.welcome()"
   ]
  },
  {
   "cell_type": "markdown",
   "id": "2dac6657",
   "metadata": {},
   "source": [
    "# Create rectangle (length and width) and square (length) classes and create methods for calculating the area and perimeter."
   ]
  },
  {
   "cell_type": "code",
   "execution_count": 54,
   "id": "a081d0c5",
   "metadata": {},
   "outputs": [],
   "source": [
    "class rectangle():\n",
    "    def __init__(self,length,width):\n",
    "        self.length=length\n",
    "        self.width=width\n",
    "    def area_rect(self):\n",
    "        arearectValue=self.length*self.width\n",
    "        return f\"The area of the rectangle is {arearectValue}.\"\n",
    "    def perim_rect(self):\n",
    "        perimrectValue=(self.length+self.width)*2\n",
    "        return f\"The perimeter of the rectangle is {perimrectValue}.\"\n",
    "class square():\n",
    "    def __init__(self, length):\n",
    "        self.length=length\n",
    "    def area_sq(self):\n",
    "        areasqValue=self.length*self.length\n",
    "        return f\"The area of the square is {areasqValue}.\"\n",
    "    def perim_sq(self):\n",
    "        perimsqValue=(self.length+self.length)*2\n",
    "        return f\"The perimeter of the square is {perimsqValue}.\""
   ]
  },
  {
   "cell_type": "code",
   "execution_count": 55,
   "id": "f46960fb",
   "metadata": {},
   "outputs": [],
   "source": [
    "square1=square(5)\n",
    "square2=square(7)\n",
    "square3=square(3)\n",
    "rect1=rectangle(5,4)\n",
    "rect2=rectangle(3,6)\n",
    "rect3=rectangle(5,7)"
   ]
  },
  {
   "cell_type": "code",
   "execution_count": 56,
   "id": "168867dc",
   "metadata": {},
   "outputs": [
    {
     "data": {
      "text/plain": [
       "'The perimeter of the square is 12.'"
      ]
     },
     "execution_count": 56,
     "metadata": {},
     "output_type": "execute_result"
    }
   ],
   "source": [
    "square1.area_sq()\n",
    "#'The area of the square is 25.'\n",
    "square2.area_sq()\n",
    "#'The area of the square is 49.'\n",
    "square3.area_sq()\n",
    "#'The area of the square is 9.'\n",
    "square1.perim_sq()\n",
    "#'The perimeter of the square is 20.'\n",
    "square2.perim_sq()\n",
    "#'The perimeter of the square is 28.'\n",
    "square3.perim_sq()\n",
    "#'The perimeter of the square is 12.'"
   ]
  },
  {
   "cell_type": "code",
   "execution_count": 57,
   "id": "4408715c",
   "metadata": {},
   "outputs": [
    {
     "data": {
      "text/plain": [
       "'The perimeter of the rectangle is 24.'"
      ]
     },
     "execution_count": 57,
     "metadata": {},
     "output_type": "execute_result"
    }
   ],
   "source": [
    "rect1.area_rect()\n",
    "#'The area of the rectangle is 20.'\n",
    "rect2.area_rect()\n",
    "#'The area of the rectangle is 18.'\n",
    "rect3.area_rect()\n",
    "#'The area of the rectangle is 35.'\n",
    "rect1.perim_rect()\n",
    "#'The perimeter of the rectangle is 18.'\n",
    "rect2.perim_rect()\n",
    "#'The perimeter of the rectangle is 18.'\n",
    "rect3.perim_rect()\n",
    "#'The perimeter of the rectangle is 24.'"
   ]
  },
  {
   "cell_type": "markdown",
   "id": "d18250ba",
   "metadata": {},
   "source": [
    "# Use inheritance to create the square class from parent class rectangle."
   ]
  },
  {
   "cell_type": "code",
   "execution_count": 61,
   "id": "da6b393a",
   "metadata": {},
   "outputs": [],
   "source": [
    "class rectangle():\n",
    "    def __init__(self,length,width):\n",
    "        self.length=length\n",
    "        self.width=width\n",
    "    def area_rect(self):\n",
    "        arearectValue=self.length*self.width\n",
    "        return f\"The area of the rectangle is {arearectValue}.\"\n",
    "    def perim_rect(self):\n",
    "        perimrectValue=(self.length+self.width)*2\n",
    "        return f\"The perimeter of the rectangle is {perimrectValue}.\"\n",
    "    \n",
    "class square1(rectangle):\n",
    "    def __init__(self,length):\n",
    "        super().__init__(length,length)"
   ]
  },
  {
   "cell_type": "markdown",
   "id": "38ce55ba",
   "metadata": {},
   "source": [
    "square1=square1(4)\n",
    "square1.area_rect()"
   ]
  },
  {
   "cell_type": "markdown",
   "id": "3bdcfd1c",
   "metadata": {},
   "source": [
    "## Create a simple calculator using classes"
   ]
  },
  {
   "cell_type": "code",
   "execution_count": 13,
   "id": "6ab4b4b1",
   "metadata": {},
   "outputs": [
    {
     "name": "stdout",
     "output_type": "stream",
     "text": [
      "1. Addition\n",
      "2. Subtraction\n",
      "3. Multiplication\n",
      "4. Division\n",
      "5. Exit\n",
      "Enter your choice(1-5):4\n",
      "Enter 1st Number:12\n",
      "Enter 2nd Number:3\n",
      "Division= 4.0\n",
      "1. Addition\n",
      "2. Subtraction\n",
      "3. Multiplication\n",
      "4. Division\n",
      "5. Exit\n",
      "Enter your choice(1-5):5\n"
     ]
    }
   ],
   "source": [
    "class calc():\n",
    "    def __init__(self,input1,input2):\n",
    "        self.input1=input1\n",
    "        self.input2=input2\n",
    "    def addition(num1,num2):\n",
    "        print(\"Addition=\",num1+num2)\n",
    "\n",
    "    def subtraction(num1,num2):\n",
    "        print(\"Subtraction=\",num1-num2)\n",
    "\n",
    "    def multiplication(num1,num2):\n",
    "        print(\"Multiplication=\",num1*num2)\n",
    "\n",
    "    def division(num1,num2):\n",
    "        print(\"Division=\",num1/num2)\n",
    "\n",
    "while True:\n",
    "    print(\"1. Addition\")\n",
    "    print(\"2. Subtraction\")\n",
    "    print(\"3. Multiplication\")\n",
    "    print(\"4. Division\")    \n",
    "    print(\"5. Exit\")\n",
    "    choice=int(input(\"Enter your choice(1-5):\"))\n",
    "\n",
    "    if choice==1:\n",
    "        num1=int(input(\"Enter 1st Number:\"))\n",
    "        num2=int(input(\"Enter 2nd Number:\"))\n",
    "        calc.addition(num1,num2)\n",
    "\n",
    "\n",
    "    elif choice==2:\n",
    "        num1=int(input(\"Enter 1st Number:\"))\n",
    "        num2=int(input(\"Enter 2nd Number:\"))\n",
    "        calc.subtraction(num1,num2)\n",
    "    \n",
    "    elif choice==3:\n",
    "        num1=int(input(\"Enter 1st Number:\"))\n",
    "        num2=int(input(\"Enter 2nd Number:\"))\n",
    "        calc.multiplication(num1,num2)\n",
    "    \n",
    "    elif choice==4:\n",
    "        num1=int(input(\"Enter 1st Number:\"))\n",
    "        num2=int(input(\"Enter 2nd Number:\"))\n",
    "        if num2 == 0:\n",
    "            print('Infinity')\n",
    "        else:\n",
    "            calc.division(num1,num2)\n",
    "                \n",
    "    elif choice==5:\n",
    "        break\n",
    "    else:\n",
    "        print(\"Wrong Choice\")"
   ]
  },
  {
   "cell_type": "markdown",
   "id": "0ec161b5",
   "metadata": {},
   "source": [
    "## ATM machine "
   ]
  },
  {
   "cell_type": "code",
   "execution_count": 14,
   "id": "267c3e25",
   "metadata": {},
   "outputs": [],
   "source": [
    "class Bank_Account:\n",
    "    def __init__(self):\n",
    "        self.balance=0\n",
    "        print(\"Hello!!! Welcome to the ATM machine\")\n",
    " \n",
    "    def deposit(self):\n",
    "        amount=float(input(\"Enter amount to be Deposited: \"))\n",
    "        self.balance += amount\n",
    "        print(\"\\n Amount Deposited:\",amount)\n",
    " \n",
    "    def withdraw(self):\n",
    "        amount = float(input(\"Enter amount to be Withdrawn: \"))\n",
    "        if self.balance>=amount:\n",
    "            self.balance-=amount\n",
    "            print(\"\\n You Withdrew:\", amount)\n",
    "        else:\n",
    "            print(\"\\n Insufficient balance  \")\n",
    " \n",
    "    def display(self):\n",
    "        print(\"\\n Net Available Balance=\",self.balance)\n",
    "        "
   ]
  },
  {
   "cell_type": "code",
   "execution_count": 15,
   "id": "a6e40459",
   "metadata": {},
   "outputs": [
    {
     "name": "stdout",
     "output_type": "stream",
     "text": [
      "Hello!!! Welcome to the ATM machine\n",
      "Enter amount to be Deposited: 400\n",
      "\n",
      " Amount Deposited: 400.0\n"
     ]
    }
   ],
   "source": [
    "my_account = Bank_Account()\n",
    "  \n",
    "# Calling functions with that class object\n",
    "my_account.deposit()\n",
    "\n"
   ]
  },
  {
   "cell_type": "code",
   "execution_count": 16,
   "id": "5349965d",
   "metadata": {},
   "outputs": [
    {
     "name": "stdout",
     "output_type": "stream",
     "text": [
      "Enter amount to be Deposited: 600\n",
      "\n",
      " Amount Deposited: 600.0\n"
     ]
    }
   ],
   "source": [
    "my_account.deposit()"
   ]
  },
  {
   "cell_type": "code",
   "execution_count": 17,
   "id": "38271572",
   "metadata": {},
   "outputs": [
    {
     "name": "stdout",
     "output_type": "stream",
     "text": [
      "\n",
      " Net Available Balance= 1000.0\n"
     ]
    }
   ],
   "source": [
    "my_account.display()"
   ]
  },
  {
   "cell_type": "code",
   "execution_count": 18,
   "id": "d4e6d2ac",
   "metadata": {},
   "outputs": [
    {
     "name": "stdout",
     "output_type": "stream",
     "text": [
      "Enter amount to be Withdrawn: 400\n",
      "\n",
      " You Withdrew: 400.0\n",
      "\n",
      " Net Available Balance= 600.0\n"
     ]
    }
   ],
   "source": [
    "my_account.withdraw()\n",
    "my_account.display()"
   ]
  }
 ],
 "metadata": {
  "kernelspec": {
   "display_name": "Python 3 (ipykernel)",
   "language": "python",
   "name": "python3"
  },
  "language_info": {
   "codemirror_mode": {
    "name": "ipython",
    "version": 3
   },
   "file_extension": ".py",
   "mimetype": "text/x-python",
   "name": "python",
   "nbconvert_exporter": "python",
   "pygments_lexer": "ipython3",
   "version": "3.9.12"
  }
 },
 "nbformat": 4,
 "nbformat_minor": 5
}
